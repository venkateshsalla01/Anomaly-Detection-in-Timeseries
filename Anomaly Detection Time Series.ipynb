{
 "cells": [
  {
   "cell_type": "markdown",
   "metadata": {},
   "source": [
    "# Anomaly Detection Time Series"
   ]
  },
  {
   "cell_type": "code",
   "execution_count": 1,
   "metadata": {},
   "outputs": [],
   "source": [
    "#importing libraries\n",
    "import pandas as pd\n",
    "import numpy as np\n",
    "import matplotlib.pyplot as plt"
   ]
  },
  {
   "cell_type": "code",
   "execution_count": 3,
   "metadata": {},
   "outputs": [],
   "source": [
    "X=np.sort(25*np.random.rand(150,1),axis=0)\n",
    "y=np.sin(X).ravel()\n",
    "y[::5]+=3*(0.5-np.random.rand(30))"
   ]
  },
  {
   "cell_type": "code",
   "execution_count": 4,
   "metadata": {},
   "outputs": [
    {
     "data": {
      "text/plain": [
       "array([[ 0.38937824],\n",
       "       [ 0.56279868],\n",
       "       [ 1.04096024],\n",
       "       [ 1.2065219 ],\n",
       "       [ 1.40225415],\n",
       "       [ 1.43487233],\n",
       "       [ 1.50078714],\n",
       "       [ 1.71041704],\n",
       "       [ 1.87891029],\n",
       "       [ 1.96692448],\n",
       "       [ 2.00889212],\n",
       "       [ 2.01205619],\n",
       "       [ 2.35711247],\n",
       "       [ 2.42704674],\n",
       "       [ 2.56487161],\n",
       "       [ 2.61804522],\n",
       "       [ 2.75925824],\n",
       "       [ 3.04626612],\n",
       "       [ 3.08266151],\n",
       "       [ 3.46707222],\n",
       "       [ 3.54545802],\n",
       "       [ 3.73867276],\n",
       "       [ 3.79710998],\n",
       "       [ 3.8574613 ],\n",
       "       [ 4.28823862],\n",
       "       [ 4.53286034],\n",
       "       [ 4.98205069],\n",
       "       [ 5.27026414],\n",
       "       [ 5.2990678 ],\n",
       "       [ 5.50493356],\n",
       "       [ 5.54200913],\n",
       "       [ 5.54355518],\n",
       "       [ 5.79539897],\n",
       "       [ 6.24253427],\n",
       "       [ 6.27073557],\n",
       "       [ 6.66444197],\n",
       "       [ 6.66567089],\n",
       "       [ 7.23687976],\n",
       "       [ 7.27548931],\n",
       "       [ 7.39344005],\n",
       "       [ 7.39759962],\n",
       "       [ 7.47612602],\n",
       "       [ 7.52687143],\n",
       "       [ 7.52794009],\n",
       "       [ 7.5368569 ],\n",
       "       [ 7.64391403],\n",
       "       [ 7.75059791],\n",
       "       [ 7.76032191],\n",
       "       [ 8.01144941],\n",
       "       [ 8.04681632],\n",
       "       [ 8.12531717],\n",
       "       [ 8.43719581],\n",
       "       [ 8.47482644],\n",
       "       [ 8.81588093],\n",
       "       [ 8.88157381],\n",
       "       [ 8.99029399],\n",
       "       [ 9.00776126],\n",
       "       [ 9.35309596],\n",
       "       [ 9.50003607],\n",
       "       [ 9.55549846],\n",
       "       [ 9.580642  ],\n",
       "       [ 9.62043027],\n",
       "       [ 9.67157792],\n",
       "       [ 9.69766999],\n",
       "       [ 9.70423556],\n",
       "       [10.01296145],\n",
       "       [10.0407843 ],\n",
       "       [10.20531655],\n",
       "       [10.51648348],\n",
       "       [10.61120506],\n",
       "       [10.65069517],\n",
       "       [10.72797079],\n",
       "       [11.47204403],\n",
       "       [11.51244572],\n",
       "       [11.63423461],\n",
       "       [11.67983637],\n",
       "       [11.80094545],\n",
       "       [11.84847051],\n",
       "       [12.16834855],\n",
       "       [12.32640338],\n",
       "       [12.49424476],\n",
       "       [12.52278652],\n",
       "       [12.71738731],\n",
       "       [12.72504841],\n",
       "       [12.75848894],\n",
       "       [12.93547188],\n",
       "       [13.50566886],\n",
       "       [13.72790172],\n",
       "       [13.73274782],\n",
       "       [13.80506711],\n",
       "       [13.99929933],\n",
       "       [14.38541499],\n",
       "       [14.54859281],\n",
       "       [14.72828346],\n",
       "       [14.75530534],\n",
       "       [14.93740628],\n",
       "       [15.13641264],\n",
       "       [15.3262349 ],\n",
       "       [15.38407783],\n",
       "       [15.44086197],\n",
       "       [15.5524468 ],\n",
       "       [15.85628234],\n",
       "       [16.15731673],\n",
       "       [16.1827576 ],\n",
       "       [16.28907009],\n",
       "       [16.29482737],\n",
       "       [16.65978786],\n",
       "       [16.71749517],\n",
       "       [17.0608437 ],\n",
       "       [17.20989324],\n",
       "       [17.44207183],\n",
       "       [17.49723647],\n",
       "       [17.65880391],\n",
       "       [17.86511532],\n",
       "       [18.11723493],\n",
       "       [18.28410181],\n",
       "       [18.9937436 ],\n",
       "       [19.49667051],\n",
       "       [19.77778512],\n",
       "       [19.98649253],\n",
       "       [20.18274566],\n",
       "       [20.66901412],\n",
       "       [20.78959304],\n",
       "       [20.88496346],\n",
       "       [21.16051482],\n",
       "       [21.50674086],\n",
       "       [21.64660248],\n",
       "       [21.67923393],\n",
       "       [21.85263951],\n",
       "       [22.0047253 ],\n",
       "       [22.10184256],\n",
       "       [22.13472307],\n",
       "       [22.48516451],\n",
       "       [22.5121917 ],\n",
       "       [22.96636898],\n",
       "       [23.24696909],\n",
       "       [23.2952841 ],\n",
       "       [23.54807273],\n",
       "       [23.56945629],\n",
       "       [23.63957017],\n",
       "       [23.92845927],\n",
       "       [23.93356447],\n",
       "       [24.104802  ],\n",
       "       [24.33020486],\n",
       "       [24.46519001],\n",
       "       [24.5437958 ],\n",
       "       [24.57830871],\n",
       "       [24.74439886],\n",
       "       [24.86111044],\n",
       "       [24.86112662]])"
      ]
     },
     "execution_count": 4,
     "metadata": {},
     "output_type": "execute_result"
    }
   ],
   "source": [
    "X"
   ]
  },
  {
   "cell_type": "code",
   "execution_count": 5,
   "metadata": {},
   "outputs": [
    {
     "data": {
      "text/plain": [
       "array([-0.41158233,  0.53355531,  0.86288992,  0.93438251,  0.98583036,\n",
       "        1.03918312,  0.99755036,  0.99026885,  0.95290723,  0.92256186,\n",
       "        0.24901873,  0.90421432,  0.70645737,  0.65527447,  0.54527827,\n",
       "        1.39085902,  0.37308735,  0.09518222,  0.05889704, -0.31976321,\n",
       "        0.87372693, -0.56223018, -0.60956943, -0.65627308, -0.91138873,\n",
       "       -1.01968958, -0.96386107, -0.84838188, -0.83278387, -0.70203549,\n",
       "       -0.94232079, -0.67401472, -0.46867155, -0.04063984, -0.01244941,\n",
       "        1.7725862 ,  0.37322759,  0.81555895,  0.83728794,  0.89581193,\n",
       "        0.45062435,  0.9294579 ,  0.94697481,  0.94731764,  0.95013596,\n",
       "        0.58981295,  0.99466066,  0.99561713,  0.98762755,  0.98146493,\n",
       "        2.26905296,  0.83469689,  0.8133873 ,  0.57196306,  0.51688157,\n",
       "       -1.00476013,  0.40503462,  0.07162063, -0.07518709, -0.13034853,\n",
       "        0.36947283, -0.19440644, -0.24430214, -0.26951757, -0.27583433,\n",
       "       -1.2036818 , -0.57778018, -0.70366221, -0.8874144 , -0.92703514,\n",
       "        0.17987611, -0.96440735, -0.88861959, -0.86936945, -0.80289509,\n",
       "       -0.28871244, -0.69284364, -0.6578045 , -0.38759578, -0.2376708 ,\n",
       "       -1.46118259, -0.04357029,  0.15044334,  0.15801275,  0.19093868,\n",
       "       -1.11729185,  0.80714401,  0.91741346,  0.91933112,  0.94535982,\n",
       "        0.32862599,  0.96934437,  0.91655153,  0.83031897,  0.8149587 ,\n",
       "        1.27933182,  0.54093687,  0.37252499,  0.31825237,  0.26393663,\n",
       "        1.54605164, -0.14777587, -0.43438327, -0.45715554, -0.54894941,\n",
       "        0.30058183, -0.81447549, -0.84658279, -0.97635014, -0.99762965,\n",
       "       -1.98157865, -0.97622871, -0.9286482 , -0.83296269, -0.66859738,\n",
       "       -0.53335815,  0.14368858,  0.60288686,  0.80056004,  0.90734998,\n",
       "        2.2563407 ,  0.96924261,  0.93260162,  0.89399584,  0.73835893,\n",
       "       -0.49766348,  0.33776948,  0.30688146,  0.13806661, -0.01357631,\n",
       "       -1.23303487, -0.14308173, -0.47416547, -0.49778511, -0.82782555,\n",
       "        0.37124383, -0.96465619, -0.99990378, -0.99997179, -0.99698867,\n",
       "       -2.21540358, -0.93174046, -0.85623624, -0.71912088, -0.61906472,\n",
       "        0.13362752, -0.52646091, -0.37865474, -0.26830279, -0.2682872 ])"
      ]
     },
     "execution_count": 5,
     "metadata": {},
     "output_type": "execute_result"
    }
   ],
   "source": [
    "y"
   ]
  },
  {
   "cell_type": "code",
   "execution_count": 7,
   "metadata": {},
   "outputs": [],
   "source": [
    "#Applying SVM model to X and y coordinates\n",
    "from sklearn.svm import SVR     \n",
    "model = SVR(kernel='rbf', C=1e3, gamma=.1)"
   ]
  },
  {
   "cell_type": "code",
   "execution_count": 8,
   "metadata": {},
   "outputs": [],
   "source": [
    "y_rbf = model.fit(X, y).predict(X)"
   ]
  },
  {
   "cell_type": "code",
   "execution_count": 9,
   "metadata": {},
   "outputs": [],
   "source": [
    "error=y_rbf-y\n",
    "sup=np.mean(error)+2.33*np.std(error)\n",
    "inf=np.mean(error)-2.33*np.std(error)\n",
    "anomalies=np.concatenate([np.where(error>sup)[0],np.where(error<inf)[0]])"
   ]
  },
  {
   "cell_type": "code",
   "execution_count": 11,
   "metadata": {},
   "outputs": [
    {
     "data": {
      "text/plain": [
       "array([ 55,  80,  85, 130, 140,  20,  35,  50,  70, 100, 120, 135],\n",
       "      dtype=int64)"
      ]
     },
     "execution_count": 11,
     "metadata": {},
     "output_type": "execute_result"
    }
   ],
   "source": [
    "anomalies"
   ]
  },
  {
   "cell_type": "code",
   "execution_count": 13,
   "metadata": {},
   "outputs": [
    {
     "data": {
      "image/png": "[encoded data removed]",
      "text/plain": [
       "<Figure size 648x360 with 1 Axes>"
      ]
     },
     "metadata": {
      "needs_background": "light"
     },
     "output_type": "display_data"
    }
   ],
   "source": [
    "lw = 3\n",
    "plt.figure(figsize=(9,5))\n",
    "plt.scatter(X, y, color='lawngreen', label='data')\n",
    "plt.scatter(X[anomalies], y[anomalies], marker='*',color='red', label='anomaly',s=120)\n",
    "plt.plot(X, y_rbf, color='navy', label='Curve')\n",
    "plt.xlabel('data')\n",
    "plt.ylabel('target')\n",
    "plt.title('Gradient Boosting Regressor')\n",
    "plt.legend(loc=3,frameon=False)\n",
    "plt.show()"
   ]
  },
  {
   "cell_type": "code",
   "execution_count": null,
   "metadata": {},
   "outputs": [],
   "source": []
  },
  {
   "cell_type": "code",
   "execution_count": null,
   "metadata": {},
   "outputs": [],
   "source": []
  }
 ],
 "metadata": {
  "kernelspec": {
   "display_name": "Python 3",
   "language": "python",
   "name": "python3"
  },
  "language_info": {
   "codemirror_mode": {
    "name": "ipython",
    "version": 3
   },
   "file_extension": ".py",
   "mimetype": "text/x-python",
   "name": "python",
   "nbconvert_exporter": "python",
   "pygments_lexer": "ipython3",
   "version": "3.7.4"
  }
 },
 "nbformat": 4,
 "nbformat_minor": 2
}
